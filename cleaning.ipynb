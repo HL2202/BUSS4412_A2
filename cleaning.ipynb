{
 "cells": [
  {
   "cell_type": "code",
   "execution_count": 1,
   "id": "b14ee5fc-8a1d-4372-a26f-1497649be957",
   "metadata": {},
   "outputs": [],
   "source": [
    "##########################################\n",
    "# Cleaning Code                          \n",
    "# This code is specifically designed to clean and process the historical FF book equity dataframe retrieved from the Ken French data website\n",
    "# The code was separated from the main Python code to simplify the processes, such that the main code can directly import a cleaned dataset with minimal adjustments required\n",
    "# The code is designed to produce a dataset which contains the gvkey and permno columns that will be used for merging with the CRSP and CCM datasets\n",
    "##########################################"
   ]
  },
  {
   "cell_type": "code",
   "execution_count": 2,
   "id": "8cafae75-36c8-4e8b-8173-427a25ab7609",
   "metadata": {},
   "outputs": [],
   "source": [
    "# Import the modules for processing the dataset\n",
    "\n",
    "import pandas as pd\n",
    "import numpy as np\n",
    "from datetime import datetime as dt\n",
    "from dateutil.relativedelta import relativedelta\n",
    "import math\n",
    "from datetime import date"
   ]
  },
  {
   "cell_type": "code",
   "execution_count": 3,
   "id": "50724e2c-7f96-410a-84c2-8816b2a8afa4",
   "metadata": {
    "tags": []
   },
   "outputs": [],
   "source": [
    "# Create a function which will be used to standardise the year in the dataset to the format of YYYY-MM-DD using the last day of each year (31st of December)\n",
    "# In the cleaned dataset, there will be a yearend column which will represent the last day of each year (since the original data only had the year value and did not have day and month)\n",
    "\n",
    "class MyCustomDate(date):\n",
    "    def __new__(cls, year, month=12, day=31):\n",
    "        return super().__new__(cls, year, month, day)"
   ]
  },
  {
   "cell_type": "code",
   "execution_count": 4,
   "id": "78592712-8611-4e22-98d1-3268c5eb3945",
   "metadata": {
    "tags": []
   },
   "outputs": [],
   "source": [
    "# Retrieve the data from a downloaded txt file from the Ken French website and convert into Pandas dataframe\n",
    "\n",
    "data = []\n",
    "with open(\"DFF_BE_With_Nonindust.txt\", \"r\") as file:\n",
    "    for line in file:\n",
    "        try:\n",
    "            row = line.strip().rstrip().split(\" \")\n",
    "            data.append(row)\n",
    "        except Exception as e:\n",
    "            print(f\"Error processing line: {line.strip()}. Error: {e}\")\n",
    "\n",
    "historical_data = pd.DataFrame(data)"
   ]
  },
  {
   "cell_type": "code",
   "execution_count": 5,
   "id": "a3b41a93-e948-46df-9e7a-61fe5585d305",
   "metadata": {
    "tags": []
   },
   "outputs": [],
   "source": [
    "# Rename the important columns which we will keep\n",
    "historical_data = historical_data.rename({0: 'CRSP_Permno', 1: 'First_Moody_Year', 2: 'Last_Moody_Year'}, axis='columns')\n",
    "\n",
    "# Convert the dataframe into numeric format (float)\n",
    "historical_data = historical_data.apply(pd.to_numeric)\n",
    "\n",
    "# Replace nulls with NaNs\n",
    "historical_data = historical_data.fillna(value=np.nan)\n",
    "\n",
    "# Replace meaningless values (represented as -99.99) with NaNs\n",
    "historical_data = historical_data.replace(-99.99, np.NaN)\n",
    "\n",
    "# Drop all columns which only have NaN values\n",
    "historical_data = historical_data.dropna(axis=1, how='all')"
   ]
  },
  {
   "cell_type": "code",
   "execution_count": 6,
   "id": "d472f2f2-130d-41d3-b305-1652fb5ed469",
   "metadata": {
    "tags": []
   },
   "outputs": [],
   "source": [
    "# Get all of the book equity values for each stock (one stock per row in the file)\n",
    "# Each book equity value corresponds to a certain year, and each stock has a different starting year depending on when it was listed (with the earliest year being 1926)\n",
    "\n",
    "bm_values = []\n",
    "\n",
    "# Read each row\n",
    "for i in range(0, len(historical_data)):\n",
    "    row_ls = historical_data.values[i]\n",
    "    # Get each value of the row stored into a new list\n",
    "    bm_row = []\n",
    "    for j in range(0, len(historical_data.values[i] - 1)):\n",
    "        if not math.isnan(historical_data.values[i][j]):\n",
    "               bm_row.append(historical_data.values[i][j])\n",
    "    # bm_values is a list of lists, with each list inside containing all the book equity values of a single stock\n",
    "    bm_values.append(bm_row)"
   ]
  },
  {
   "cell_type": "code",
   "execution_count": 7,
   "id": "e0bd4612-9c62-476a-b5ff-7518d47aee76",
   "metadata": {
    "tags": []
   },
   "outputs": [],
   "source": [
    "##########################################\n",
    "# Cleaning Code Part 2                   \n",
    "# The code below performs the following:\n",
    "# Step 1: Read the 'permno_gvkey_dictionary.npy' which was created in the main code, this dictionary has the gvkey corresponding to all the stock permnos\n",
    "# Step 2: Create a dataframe which will be used to store the cleaned values for the historical book equity from the Ken French data\n",
    "# Step 3: Keep a tracker which counts the number of times that the stock's book equity value is recorded on the Ken French website data, which starts with 1 and increments each time a new value for book equity is observed\n",
    "# Step 4: Get the stock id (permno), first year and last year for each stock from the bm_values list created above\n",
    "# Step 5: If a gvkey exists for a specific permno (retrieved using the permno_gvkey dictionary), get the corresponding gvkey, otherwise set this value to NaN\n",
    "# Step 6: Starting from the first book value observed for each stock (in index position 3 in the list from above), get the book equity value and make the year corresponding to the book equity equal to the first year shifted by the number of counts (ie years observed), which should start from the first year and increase to the last year\n",
    "# Step 7: Using the MyCustomDate function, assign a YYYY-MM-DD to each year corresponding to the last day of each year\n",
    "# Step 8: Assign an additional value jdate which corresponds to the 6 months forward date of the previous year (eg for 1926-12-31, the jdate is 1927-06-30)\n",
    "# Step 9: Append the values of gvkey, permno, date, yearend date, jdate, book value of equity and count to the new dataframe\n",
    "# Step 10: Increment the count, and then convert the dataframe into a standard Pandas dataframe with column names 'gvkey', 'permno', 'datadate', 'yearend', 'jdate', 'be', 'count'\n",
    "# Step 11: Sort the values by permno first and then by datadate\n",
    "##########################################"
   ]
  },
  {
   "cell_type": "code",
   "execution_count": 8,
   "id": "860aa9e2-0f10-49a1-b319-a0eb5fdcb8ed",
   "metadata": {},
   "outputs": [],
   "source": [
    "# Load the 'permno_gvkey_dictionary.npy' created from the ff3_vF.ipynb code using the CCM block\n",
    "\n",
    "permno_gvkey_dictionary = np.load('permno_gvkey_dictionary.npy',allow_pickle='TRUE').item()\n",
    "\n",
    "#A new dataframe is created which stores the gvkey as an additional column alongside the columns from the section above\n",
    "df_with_gvkey = []\n",
    "\n",
    "# Perform the eleven steps mentioned above to create the dataframe\n",
    "# Create this new dataframe, with gvkey as the left most column\n",
    "for i in range(0, len(bm_values)):\n",
    "    # Start with count = 1 to record the first observation of a book equity value for a certain stock\n",
    "    count = 1\n",
    "    # Get the stock id as permno\n",
    "    stock_id = int(bm_values[i][0])\n",
    "    # Get the gvkey corresponding to the permno\n",
    "    if stock_id in permno_gvkey_dictionary:\n",
    "        gvkey = permno_gvkey_dictionary[stock_id]\n",
    "    # Get first and last year for each stock\n",
    "    first_year = bm_values[i][1] - 1\n",
    "    last_year = bm_values[i][2] - 1\n",
    "    # Start looping through each stock's book equity values to append to a dataframe using the steps mentioned above\n",
    "    for j in range(3, len(bm_values[i])):\n",
    "        my_ls = []\n",
    "        # Get one value per row for the dataframe such that stocks with multiple book equity values will have multiple rows in the dataframe\n",
    "        bm_val = bm_values[i][j]\n",
    "        year = int(first_year + j - 3)\n",
    "        # Custom date function to present the date as YYYY-12-31\n",
    "        custom_date = MyCustomDate(year)\n",
    "        # Add 6 months to the custom date\n",
    "        six_months_later = custom_date + relativedelta(months=+6)\n",
    "        datadate = date(custom_date.year, custom_date.month, custom_date.day)\n",
    "        datadate_six_months = date(six_months_later.year, six_months_later.month, six_months_later.day)\n",
    "        # Append everything to the dataframe\n",
    "        if gvkey:\n",
    "            my_ls.append(gvkey)\n",
    "        else:\n",
    "            my_ls.append(np.nan)\n",
    "        my_ls.append(stock_id)\n",
    "        my_ls.append(datadate.isoformat())\n",
    "        my_ls.append(datadate.isoformat())\n",
    "        my_ls.append(datadate_six_months.isoformat())\n",
    "        my_ls.append(bm_val)\n",
    "        my_ls.append(count)\n",
    "        # This is a new row that has been added to the dataframe\n",
    "        df_with_gvkey.append(my_ls)\n",
    "        # Increment the count\n",
    "        count += 1\n",
    "# Convert into standard Pandas dataframe\n",
    "df_with_gvkey = pd.DataFrame(df_with_gvkey)\n",
    "# Rename the columns\n",
    "df_with_gvkey = df_with_gvkey.rename({0: 'gvkey', 1: 'permno', 2: 'datadate', 3: 'yearend', 4: 'jdate', 5: 'be', 6: 'count'}, axis='columns')\n",
    "# Sort by permno and datadate\n",
    "df_with_gvkey = df_with_gvkey.sort_values(by=['permno','datadate'])"
   ]
  },
  {
   "cell_type": "code",
   "execution_count": 9,
   "id": "c3cceac0-16bd-4ea8-aa5e-07ee08abb313",
   "metadata": {
    "tags": []
   },
   "outputs": [],
   "source": [
    "# Output the newly created dataframe containing all of the historical book equity values from 1926 to a csv file\n",
    "# This csv file will be loaded into the main code to simplify the processes, allowing for the separation of the cleaning step with the data processing step\n",
    "\n",
    "df_with_gvkey.to_csv('DFF_BE_With_Nonindust_Cleaned_with_gvkey.csv')"
   ]
  },
  {
   "cell_type": "code",
   "execution_count": null,
   "id": "9e3e77da-6d65-4dd2-a972-67ff7c29c7f1",
   "metadata": {},
   "outputs": [],
   "source": []
  }
 ],
 "metadata": {
  "kernelspec": {
   "display_name": "Python 3 (ipykernel)",
   "language": "python",
   "name": "python3"
  },
  "language_info": {
   "codemirror_mode": {
    "name": "ipython",
    "version": 3
   },
   "file_extension": ".py",
   "mimetype": "text/x-python",
   "name": "python",
   "nbconvert_exporter": "python",
   "pygments_lexer": "ipython3",
   "version": "3.11.4"
  }
 },
 "nbformat": 4,
 "nbformat_minor": 5
}
